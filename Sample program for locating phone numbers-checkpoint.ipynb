{
 "cells": [
  {
   "cell_type": "code",
   "execution_count": 1,
   "id": "c968fcba",
   "metadata": {},
   "outputs": [
    {
     "name": "stdout",
     "output_type": "stream",
     "text": [
      "Collecting phonenumbers\n",
      "  Downloading phonenumbers-8.13.11-py2.py3-none-any.whl (2.6 MB)\n",
      "     ---------------------------------------- 2.6/2.6 MB 1.1 MB/s eta 0:00:00\n",
      "Installing collected packages: phonenumbers\n",
      "Successfully installed phonenumbers-8.13.11\n",
      "Note: you may need to restart the kernel to use updated packages.\n"
     ]
    }
   ],
   "source": [
    "pip install phonenumbers"
   ]
  },
  {
   "cell_type": "code",
   "execution_count": 2,
   "id": "568308ac",
   "metadata": {},
   "outputs": [
    {
     "name": "stdout",
     "output_type": "stream",
     "text": [
      "Collecting geocoder\n",
      "  Downloading geocoder-1.38.1-py2.py3-none-any.whl (98 kB)\n",
      "     -------------------------------------- 98.6/98.6 kB 939.9 kB/s eta 0:00:00\n",
      "Requirement already satisfied: click in c:\\users\\saharsh\\anaconda3\\lib\\site-packages (from geocoder) (7.1.2)\n",
      "Collecting ratelim\n",
      "  Downloading ratelim-0.1.6-py2.py3-none-any.whl (4.0 kB)\n",
      "Requirement already satisfied: six in c:\\users\\saharsh\\anaconda3\\lib\\site-packages (from geocoder) (1.16.0)\n",
      "Requirement already satisfied: requests in c:\\users\\saharsh\\anaconda3\\lib\\site-packages (from geocoder) (2.28.2)\n",
      "Requirement already satisfied: future in c:\\users\\saharsh\\anaconda3\\lib\\site-packages (from geocoder) (0.18.2)\n",
      "Requirement already satisfied: decorator in c:\\users\\saharsh\\anaconda3\\lib\\site-packages (from ratelim->geocoder) (5.1.1)\n",
      "Requirement already satisfied: idna<4,>=2.5 in c:\\users\\saharsh\\anaconda3\\lib\\site-packages (from requests->geocoder) (3.3)\n",
      "Requirement already satisfied: certifi>=2017.4.17 in c:\\users\\saharsh\\anaconda3\\lib\\site-packages (from requests->geocoder) (2022.9.14)\n",
      "Requirement already satisfied: urllib3<1.27,>=1.21.1 in c:\\users\\saharsh\\anaconda3\\lib\\site-packages (from requests->geocoder) (1.26.11)\n",
      "Requirement already satisfied: charset-normalizer<4,>=2 in c:\\users\\saharsh\\anaconda3\\lib\\site-packages (from requests->geocoder) (2.0.4)\n",
      "Installing collected packages: ratelim, geocoder\n",
      "Successfully installed geocoder-1.38.1 ratelim-0.1.6\n",
      "Note: you may need to restart the kernel to use updated packages.\n"
     ]
    }
   ],
   "source": [
    "pip install geocoder"
   ]
  },
  {
   "cell_type": "code",
   "execution_count": 6,
   "id": "d466d479",
   "metadata": {},
   "outputs": [
    {
     "name": "stdout",
     "output_type": "stream",
     "text": [
      "\n",
      "Phone Numbers Location\n",
      "\n",
      "India\n"
     ]
    }
   ],
   "source": [
    "import phonenumbers\n",
    "from phonenumbers import geocoder\n",
    "my_number1 = phonenumbers.parse(\"+919304716221\")\n",
    "print(\"\\nPhone Numbers Location\\n\")\n",
    "print(geocoder.description_for_number(my_number1,\"en\"));\n",
    "## Tracking the phone number      "
   ]
  },
  {
   "cell_type": "markdown",
   "id": "11fa13d4",
   "metadata": {},
   "source": [
    "## code tested by saharsh "
   ]
  },
  {
   "cell_type": "code",
   "execution_count": null,
   "id": "db09d9f9",
   "metadata": {},
   "outputs": [],
   "source": []
  }
 ],
 "metadata": {
  "kernelspec": {
   "display_name": "Python 3 (ipykernel)",
   "language": "python",
   "name": "python3"
  },
  "language_info": {
   "codemirror_mode": {
    "name": "ipython",
    "version": 3
   },
   "file_extension": ".py",
   "mimetype": "text/x-python",
   "name": "python",
   "nbconvert_exporter": "python",
   "pygments_lexer": "ipython3",
   "version": "3.9.13"
  }
 },
 "nbformat": 4,
 "nbformat_minor": 5
}
